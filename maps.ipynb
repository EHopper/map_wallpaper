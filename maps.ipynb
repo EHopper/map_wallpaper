{
 "cells": [
  {
   "cell_type": "code",
   "execution_count": null,
   "metadata": {},
   "outputs": [],
   "source": [
    "import rasterio\n",
    "import rasterio.warp as rwarp"
   ]
  },
  {
   "cell_type": "code",
   "execution_count": 7,
   "metadata": {},
   "outputs": [],
   "source": [
    "from osgeo import gdal\n",
    "from osgeo import osr\n",
    "import utm"
   ]
  },
  {
   "cell_type": "code",
   "execution_count": null,
   "metadata": {},
   "outputs": [],
   "source": [
    "pdflayers"
   ]
  },
  {
   "cell_type": "code",
   "execution_count": 2,
   "metadata": {},
   "outputs": [],
   "source": [
    "src = gdal.Open('NY_Mohonk_Lake_20190916_TM_geo.pdf', gdal.GA_ReadOnly)"
   ]
  },
  {
   "cell_type": "code",
   "execution_count": 3,
   "metadata": {},
   "outputs": [
    {
     "data": {
      "text/plain": [
       "osgeo.gdal.Dataset"
      ]
     },
     "execution_count": 3,
     "metadata": {},
     "output_type": "execute_result"
    }
   ],
   "source": [
    "type(src)"
   ]
  },
  {
   "cell_type": "code",
   "execution_count": 4,
   "metadata": {},
   "outputs": [
    {
     "data": {
      "text/plain": [
       "0"
      ]
     },
     "execution_count": 4,
     "metadata": {},
     "output_type": "execute_result"
    }
   ],
   "source": [
    "a = src.GetLayerCount()\n",
    "a"
   ]
  },
  {
   "cell_type": "code",
   "execution_count": null,
   "metadata": {},
   "outputs": [],
   "source": [
    "src.GetMetadata_List()"
   ]
  },
  {
   "cell_type": "code",
   "execution_count": null,
   "metadata": {},
   "outputs": [],
   "source": [
    "src = gdal.Open('warped.tif')\n",
    "src.GetLayerCount()"
   ]
  },
  {
   "cell_type": "code",
   "execution_count": null,
   "metadata": {},
   "outputs": [],
   "source": [
    "res = gdal.Warp('warped.tif', src, dstSRS='EPSG:4087')\n",
    "res.FlushCache()"
   ]
  },
  {
   "cell_type": "code",
   "execution_count": null,
   "metadata": {},
   "outputs": [],
   "source": [
    "src"
   ]
  },
  {
   "cell_type": "code",
   "execution_count": 26,
   "metadata": {},
   "outputs": [
    {
     "data": {
      "text/plain": [
       "(0.0, 1.0, 0.0, 0.0, 0.0, 1.0)"
      ]
     },
     "execution_count": 26,
     "metadata": {},
     "output_type": "execute_result"
    }
   ],
   "source": [
    "driver = gdal.GetDriverByName(\"GTiff\")\n",
    "dst = driver.Create('test.tif', 1024, 1024, 3, gdal.GDT_Byte)\n",
    "srs = osr.SpatialReference()\n",
    "srs.SetWellKnownGeogCS( 'EPSG:4087' )\n",
    "a = src.GetGeoTransform()\n",
    "src.SetGeoTransform((a[0], a[1], 0, a[3], 0, a[5]))\n",
    "dst.GetGeoTransform()"
   ]
  },
  {
   "cell_type": "code",
   "execution_count": null,
   "metadata": {},
   "outputs": [],
   "source": [
    "utm.from_latlon(41.875, -74.25)"
   ]
  },
  {
   "cell_type": "code",
   "execution_count": 23,
   "metadata": {},
   "outputs": [],
   "source": [
    "gdal.ReprojectImage(src, dst)\n",
    "dst.FlushCache()"
   ]
  },
  {
   "cell_type": "code",
   "execution_count": null,
   "metadata": {},
   "outputs": [],
   "source": [
    "src."
   ]
  },
  {
   "cell_type": "code",
   "execution_count": 27,
   "metadata": {},
   "outputs": [
    {
     "name": "stderr",
     "output_type": "stream",
     "text": [
      "ERROR 1: The -projwin option was used, but the geotransform is\n",
      "rotated.  This configuration is not supported.\n"
     ]
    }
   ],
   "source": [
    "ulx, uly, _, _ = utm.from_latlon(41.875, -74.25)\n",
    "lrx, lry, _, _ = utm.from_latlon(41.75, -74.125)\n",
    "\n",
    "a = gdal.Translate('test.tif', 'NY_Mohonk_Lake_20190916_TM_geo.pdf',\n",
    " resampleAlg='bilinear', projWin=(ulx,uly,lrx,lry))"
   ]
  },
  {
   "cell_type": "code",
   "execution_count": null,
   "metadata": {},
   "outputs": [],
   "source": [
    "src.GetGeoTransform()"
   ]
  },
  {
   "cell_type": "code",
   "execution_count": null,
   "metadata": {},
   "outputs": [],
   "source": [
    "dst_crs = 'epsg:4087'\n",
    "src = rasterio.open('~/Downloads/NY_Mohonk_Lake_20190916_TM_geo.pdf')\n",
    "\n",
    "\n",
    "transform, width, height = rwarp.calculate_default_transform(\n",
    "    src.crs, dst_crs, src.width, src.height, *src.bounds\n",
    ")\n",
    "\n",
    "kwargs = src.meta.copy()\n",
    "kwargs.update({'crs': dst_crs, 'transform': transform, 'width': width, 'height': height})\n",
    "\n",
    "with rasterio.open('junk.tif', 'w', **kwargs) as dst:\n",
    "    for i in range(1, src.count + 1):\n",
    "        rwarp.reproject(\n",
    "            source=rasterio.band(src, i),\n",
    "            destination=rasterio.band(dst, i),\n",
    "            src_transform=src.transform,\n",
    "            src_crs=src.crs,\n",
    "            dst_transform=transform,\n",
    "            dst_crs=dst_crs,\n",
    "            resampling=rwarp.Resampling.bilinear)"
   ]
  },
  {
   "cell_type": "code",
   "execution_count": null,
   "metadata": {},
   "outputs": [],
   "source": []
  }
 ],
 "metadata": {
  "kernelspec": {
   "display_name": "Python 3.10.2 64-bit ('maps')",
   "language": "python",
   "name": "python3"
  },
  "language_info": {
   "codemirror_mode": {
    "name": "ipython",
    "version": 3
   },
   "file_extension": ".py",
   "mimetype": "text/x-python",
   "name": "python",
   "nbconvert_exporter": "python",
   "pygments_lexer": "ipython3",
   "version": "3.10.2"
  },
  "orig_nbformat": 4,
  "vscode": {
   "interpreter": {
    "hash": "5eea314657365c9be26ed22fed3d9a14a969a5b0bb0c1220dca1aaafbec8d0bf"
   }
  }
 },
 "nbformat": 4,
 "nbformat_minor": 2
}
