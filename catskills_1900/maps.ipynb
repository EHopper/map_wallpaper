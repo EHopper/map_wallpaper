{
 "cells": [
  {
   "cell_type": "code",
   "execution_count": 1,
   "metadata": {},
   "outputs": [],
   "source": [
    "import glob\n",
    "\n",
    "import numpy as np\n",
    "import matplotlib.pyplot as plt\n",
    "from PIL import Image, ImageEnhance\n",
    "\n",
    "from osgeo import gdal\n",
    "# gdal.SetConfigOption('GDAL_PDF_LAYERS', 'Map_Frame')\n"
   ]
  },
  {
   "cell_type": "code",
   "execution_count": 11,
   "metadata": {},
   "outputs": [],
   "source": [
    "# Coordinates of upper left corner, add -0.25N, 0.25W to get lower right\n",
    "map_corners = [\n",
    "    (42.25, -74.75, 'NY_Margaretville_144057_1904_62500_geo.pdf'),\n",
    "    (42.25, -74.5, 'NY_Phoenicia_148207_1903_62500_geo.pdf'),\n",
    "    (42.25, -74.25, 'NY_Kaaterskill_140118_1892_62500_geo.pdf'),\n",
    "    (42.25, -74.0, 'NY_Catskill_140458_1895_62500_geo.pdf'),\n",
    "\n",
    "    (42.0, -74.75, 'NY_Neversink_144205_1910_62500_geo.pdf'),\n",
    "    (42.0, -74.5, 'NY_Slide_Mountain_148514_1905_62500_geo.pdf'),\n",
    "    (42.0, -74.25, 'NY_Rosendale_148355_1903_62500_geo.pdf'),\n",
    "    (42.0, -74.0, 'NY_Rhinebeck_148295_1898_62500_geo.pdf')\n",
    "]"
   ]
  },
  {
   "cell_type": "code",
   "execution_count": 12,
   "metadata": {},
   "outputs": [
    {
     "name": "stderr",
     "output_type": "stream",
     "text": [
      "Warning 1: Non closed ring detected. To avoid accepting it, set the OGR_GEOMETRY_ACCEPT_UNCLOSED_RING configuration option to NO\n"
     ]
    }
   ],
   "source": [
    "def get_corners_from_gdal_ds(gdal_ds):\n",
    "    ulx, xres, _, lry, _, yres = gdal_ds.GetGeoTransform()\n",
    "    uly = orig_pdf.RasterYSize * yres + lry\n",
    "    lrx = orig_pdf.RasterXSize * xres + ulx\n",
    "    return ulx, uly, lrx, lry\n",
    "\n",
    "# Get approx aspect ratio - just pick random one from the middle\n",
    "fn = map_corners[len(map_corners)//2][-1]\n",
    "orig_pdf = gdal.Open(fn)\n",
    "ulx, uly, lrx, lry = get_corners_from_gdal_ds(orig_pdf)\n",
    "ASPECT_RATIO = (ulx - lrx) / (uly - lry)\n",
    "\n",
    "def warp_pdf(map_info):\n",
    "    uly, ulx, quadrangle = map_info\n",
    "    orig_pdf = gdal.Open(quadrangle)\n",
    "    target_size = 4096 # equidistant\n",
    "    warped = gdal.Warp(\n",
    "        'warped.tif', orig_pdf, \n",
    "        dstSRS='EPSG:4326', # WGS84 \n",
    "        resampleAlg='cubic',\n",
    "        width=target_size, height=target_size,\n",
    "        # this takes min_x, min_y, max_x, max_y\n",
    "        outputBounds=(ulx, uly - 0.25, ulx + 0.25, uly)\n",
    "    );\n",
    "    warped.FlushCache();\n",
    "    return warped\n",
    "\n",
    "def gdal_ds_to_image(gdal_ds):\n",
    "    a1 = gdal_ds.GetRasterBand(1).ReadAsArray()\n",
    "    a2 = gdal_ds.GetRasterBand(2).ReadAsArray()\n",
    "    a3 = gdal_ds.GetRasterBand(3).ReadAsArray()\n",
    "\n",
    "    arr = np.stack((a1, a2, a3), axis=2)\n",
    "    return Image.fromarray(arr)\n",
    "\n",
    "def correct_aspect_ratio(im):\n",
    "    return im.resize(\n",
    "        (int(im.width * ASPECT_RATIO), im.height), Image.Resampling.BICUBIC\n",
    "    )\n",
    "\n",
    "def make_name_readable(fn):\n",
    "    return fn.split('_14')[0][3:]\n",
    "    \n",
    "\n",
    "def do_all_the_things(map_info):\n",
    "    im = correct_aspect_ratio(gdal_ds_to_image(warp_pdf(map_info)))\n",
    "    im.save(f'{make_name_readable(map_info[-1])}.tif')\n",
    "    return im\n"
   ]
  },
  {
   "cell_type": "code",
   "execution_count": 13,
   "metadata": {},
   "outputs": [],
   "source": [
    "def merge_files(map_corners, crop_pixels=(0, 0, 0, 0)):\n",
    "    \n",
    "    row_lats = list(set(m[0] for m in map_corners))\n",
    "    row_lats.sort()\n",
    "    column_lons = list(set(m[1] for m in map_corners))\n",
    "    column_lons.sort()\n",
    "\n",
    "    # n.b. all input files have been transformed to the same size\n",
    "    for ir, row in enumerate(row_lats):\n",
    "        print(row)\n",
    "        maps = [m for m in map_corners if m[0] == row]\n",
    "        print(', '.join(make_name_readable(m[-1]) for m in maps))\n",
    "\n",
    "        for ic, col in enumerate(column_lons):\n",
    "            m = [m for m in maps if m[1] == col][0][-1]\n",
    "            if ic == 0:\n",
    "                im = Image.open(f'{make_name_readable(m)}.tif')\n",
    "                im = crop_image(im, crop_pixels)\n",
    "                continue \n",
    "            im_new = Image.open(f'{make_name_readable(m)}.tif')\n",
    "            im_new = crop_image(im_new, crop_pixels)\n",
    "            im = merge_im_horizontally(im, im_new)\n",
    "        \n",
    "        if ir == 0:\n",
    "            im_all = im\n",
    "            continue\n",
    "        im_all = merge_im_vertically(im_all, im)\n",
    "\n",
    "    return im_all\n",
    "\n",
    "def crop_image(im, n_pixels):\n",
    "    box = (n_pixels[0], n_pixels[1], im.width - n_pixels[2], im.height - n_pixels[3])\n",
    "    return im.crop(box)\n",
    "            \n",
    "def merge_im_horizontally(im1, im2):\n",
    "    w = im1.width + im2.width \n",
    "    h = im1.height\n",
    "    im = Image.new(\"RGB\", (w, h))\n",
    "    im.paste(im1)\n",
    "    im.paste(im2, (im1.width, 0))\n",
    "    return im\n",
    "\n",
    "def merge_im_vertically(im1, im2):\n",
    "    w = im1.width\n",
    "    h = im1.height + im2.height \n",
    "    im = Image.new(\"RGB\", (w, h))\n",
    "    im.paste(im2)\n",
    "    im.paste(im1, (0, im2.height))\n",
    "    return im\n",
    "\n",
    "def increase_contrast(im, contrast_scale=3):\n",
    "    enhancer = ImageEnhance.Contrast(im)\n",
    "    return enhancer.enhance(contrast_scale)"
   ]
  },
  {
   "cell_type": "code",
   "execution_count": 15,
   "metadata": {},
   "outputs": [
    {
     "name": "stdout",
     "output_type": "stream",
     "text": [
      "Margaretville\n"
     ]
    },
    {
     "name": "stderr",
     "output_type": "stream",
     "text": [
      "Warning 1: Non closed ring detected. To avoid accepting it, set the OGR_GEOMETRY_ACCEPT_UNCLOSED_RING configuration option to NO\n"
     ]
    },
    {
     "name": "stdout",
     "output_type": "stream",
     "text": [
      "Phoenicia\n"
     ]
    },
    {
     "name": "stderr",
     "output_type": "stream",
     "text": [
      "Warning 1: Non closed ring detected. To avoid accepting it, set the OGR_GEOMETRY_ACCEPT_UNCLOSED_RING configuration option to NO\n",
      "Warning 1: Non closed ring detected. To avoid accepting it, set the OGR_GEOMETRY_ACCEPT_UNCLOSED_RING configuration option to NO\n"
     ]
    },
    {
     "name": "stdout",
     "output_type": "stream",
     "text": [
      "Kaaterskill\n"
     ]
    },
    {
     "name": "stderr",
     "output_type": "stream",
     "text": [
      "Warning 1: Non closed ring detected. To avoid accepting it, set the OGR_GEOMETRY_ACCEPT_UNCLOSED_RING configuration option to NO\n",
      "Warning 1: Non closed ring detected. To avoid accepting it, set the OGR_GEOMETRY_ACCEPT_UNCLOSED_RING configuration option to NO\n"
     ]
    },
    {
     "name": "stdout",
     "output_type": "stream",
     "text": [
      "Catskill\n"
     ]
    },
    {
     "name": "stderr",
     "output_type": "stream",
     "text": [
      "Warning 1: Non closed ring detected. To avoid accepting it, set the OGR_GEOMETRY_ACCEPT_UNCLOSED_RING configuration option to NO\n",
      "Warning 1: Non closed ring detected. To avoid accepting it, set the OGR_GEOMETRY_ACCEPT_UNCLOSED_RING configuration option to NO\n"
     ]
    },
    {
     "name": "stdout",
     "output_type": "stream",
     "text": [
      "Neversink\n"
     ]
    },
    {
     "name": "stderr",
     "output_type": "stream",
     "text": [
      "Warning 1: Non closed ring detected. To avoid accepting it, set the OGR_GEOMETRY_ACCEPT_UNCLOSED_RING configuration option to NO\n",
      "Warning 1: Non closed ring detected. To avoid accepting it, set the OGR_GEOMETRY_ACCEPT_UNCLOSED_RING configuration option to NO\n"
     ]
    },
    {
     "name": "stdout",
     "output_type": "stream",
     "text": [
      "Slide_Mountain\n"
     ]
    },
    {
     "name": "stderr",
     "output_type": "stream",
     "text": [
      "Warning 1: Non closed ring detected. To avoid accepting it, set the OGR_GEOMETRY_ACCEPT_UNCLOSED_RING configuration option to NO\n",
      "Warning 1: Non closed ring detected. To avoid accepting it, set the OGR_GEOMETRY_ACCEPT_UNCLOSED_RING configuration option to NO\n"
     ]
    },
    {
     "name": "stdout",
     "output_type": "stream",
     "text": [
      "Rosendale\n"
     ]
    },
    {
     "name": "stderr",
     "output_type": "stream",
     "text": [
      "Warning 1: Non closed ring detected. To avoid accepting it, set the OGR_GEOMETRY_ACCEPT_UNCLOSED_RING configuration option to NO\n",
      "Warning 1: Non closed ring detected. To avoid accepting it, set the OGR_GEOMETRY_ACCEPT_UNCLOSED_RING configuration option to NO\n"
     ]
    },
    {
     "name": "stdout",
     "output_type": "stream",
     "text": [
      "Rhinebeck\n"
     ]
    },
    {
     "name": "stderr",
     "output_type": "stream",
     "text": [
      "Warning 1: Non closed ring detected. To avoid accepting it, set the OGR_GEOMETRY_ACCEPT_UNCLOSED_RING configuration option to NO\n",
      "Warning 1: Non closed ring detected. To avoid accepting it, set the OGR_GEOMETRY_ACCEPT_UNCLOSED_RING configuration option to NO\n"
     ]
    },
    {
     "name": "stdout",
     "output_type": "stream",
     "text": [
      "42.0\n",
      "Neversink, Slide_Mountain, Rosendale, Rhinebeck\n",
      "42.25\n",
      "Margaretville, Phoenicia, Kaaterskill, Catskill\n"
     ]
    }
   ],
   "source": [
    "for m in map_corners:\n",
    "    if len(glob.glob(f'{make_name_readable(m[-1])}.tif')) == 0: # skip files that have already been processed\n",
    "        print(make_name_readable(m[-1]))\n",
    "        im = do_all_the_things(m)\n",
    "\n",
    "\n",
    "im = merge_files(map_corners, (2, 1, 1, 2))\n",
    "im.save('test.tif')\n",
    "# im3 = increase_contrast(im, 1.5)\n",
    "# sc = 1\n",
    "# im2 = im3.resize((int(im.width / sc), int(im.height / sc)), Image.Resampling.BICUBIC)\n",
    "# im2.save('final_map.tif')"
   ]
  },
  {
   "cell_type": "code",
   "execution_count": 6,
   "metadata": {},
   "outputs": [
    {
     "name": "stdout",
     "output_type": "stream",
     "text": [
      "42.0\n",
      "Neversink_144205_1910_62500_geo.pdf, Slide_Mountain_148514_1905_62500_geo.pdf, Rosendale_148355_1903_62500_geo.pdf, Rhinebeck_148295_1898_62500_geo.pdf\n",
      "42.25\n",
      "Margaretville_144057_1904_62500_geo.pdf, Phoenicia_148207_1903_62500_geo.pdf, Kaaterskill_130118_1892_62500_geo.pdf, Catskill_140458_1895_62500_geo.pdf\n"
     ]
    }
   ],
   "source": [
    "im = merge_files(map_corners, (2, 1, 1, 2))\n",
    "im.save('test.tif')\n",
    "im.save('final_map.jpg')"
   ]
  }
 ],
 "metadata": {
  "kernelspec": {
   "display_name": "Python 3.10.2 64-bit ('maps')",
   "language": "python",
   "name": "python3"
  },
  "language_info": {
   "codemirror_mode": {
    "name": "ipython",
    "version": 3
   },
   "file_extension": ".py",
   "mimetype": "text/x-python",
   "name": "python",
   "nbconvert_exporter": "python",
   "pygments_lexer": "ipython3",
   "version": "3.10.2"
  },
  "orig_nbformat": 4,
  "vscode": {
   "interpreter": {
    "hash": "5eea314657365c9be26ed22fed3d9a14a969a5b0bb0c1220dca1aaafbec8d0bf"
   }
  }
 },
 "nbformat": 4,
 "nbformat_minor": 2
}
